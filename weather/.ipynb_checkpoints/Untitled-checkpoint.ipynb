{
 "cells": [
  {
   "cell_type": "code",
   "execution_count": 200,
   "id": "86295b83",
   "metadata": {},
   "outputs": [],
   "source": [
    "#Pacakges\n",
    "import pandas as pd\n",
    "import numpy as np"
   ]
  },
  {
   "cell_type": "code",
   "execution_count": 201,
   "id": "f3f31d13",
   "metadata": {},
   "outputs": [],
   "source": [
    "data_set=pd.read_csv(\"weatherHistory.csv\")"
   ]
  },
  {
   "cell_type": "code",
   "execution_count": 202,
   "id": "09be8653",
   "metadata": {},
   "outputs": [
    {
     "data": {
      "text/plain": [
       "(96453, 12)"
      ]
     },
     "execution_count": 202,
     "metadata": {},
     "output_type": "execute_result"
    }
   ],
   "source": [
    "#size of the dataset\n",
    "data_set.shape"
   ]
  },
  {
   "cell_type": "code",
   "execution_count": 203,
   "id": "8bd5873f",
   "metadata": {},
   "outputs": [
    {
     "data": {
      "text/plain": [
       "Index(['Formatted Date', 'Summary', 'Precip Type', 'Temperature (C)',\n",
       "       'Apparent Temperature (C)', 'Humidity', 'Wind Speed (km/h)',\n",
       "       'Wind Bearing (degrees)', 'Visibility (km)', 'Loud Cover',\n",
       "       'Pressure (millibars)', 'Daily Summary'],\n",
       "      dtype='object')"
      ]
     },
     "execution_count": 203,
     "metadata": {},
     "output_type": "execute_result"
    }
   ],
   "source": [
    "#Available columns\n",
    "data_set.columns"
   ]
  },
  {
   "cell_type": "code",
   "execution_count": 204,
   "id": "bc59b4c5",
   "metadata": {},
   "outputs": [
    {
     "data": {
      "text/html": [
       "<div>\n",
       "<style scoped>\n",
       "    .dataframe tbody tr th:only-of-type {\n",
       "        vertical-align: middle;\n",
       "    }\n",
       "\n",
       "    .dataframe tbody tr th {\n",
       "        vertical-align: top;\n",
       "    }\n",
       "\n",
       "    .dataframe thead th {\n",
       "        text-align: right;\n",
       "    }\n",
       "</style>\n",
       "<table border=\"1\" class=\"dataframe\">\n",
       "  <thead>\n",
       "    <tr style=\"text-align: right;\">\n",
       "      <th></th>\n",
       "      <th>Formatted Date</th>\n",
       "      <th>Summary</th>\n",
       "      <th>Precip Type</th>\n",
       "      <th>Temperature (C)</th>\n",
       "      <th>Apparent Temperature (C)</th>\n",
       "      <th>Humidity</th>\n",
       "      <th>Wind Speed (km/h)</th>\n",
       "      <th>Wind Bearing (degrees)</th>\n",
       "      <th>Visibility (km)</th>\n",
       "      <th>Loud Cover</th>\n",
       "      <th>Pressure (millibars)</th>\n",
       "      <th>Daily Summary</th>\n",
       "    </tr>\n",
       "  </thead>\n",
       "  <tbody>\n",
       "    <tr>\n",
       "      <th>0</th>\n",
       "      <td>2006-04-01 00:00:00.000 +0200</td>\n",
       "      <td>Partly Cloudy</td>\n",
       "      <td>rain</td>\n",
       "      <td>9.472222</td>\n",
       "      <td>7.388889</td>\n",
       "      <td>0.89</td>\n",
       "      <td>14.1197</td>\n",
       "      <td>251.0</td>\n",
       "      <td>15.8263</td>\n",
       "      <td>0.0</td>\n",
       "      <td>1015.13</td>\n",
       "      <td>Partly cloudy throughout the day.</td>\n",
       "    </tr>\n",
       "    <tr>\n",
       "      <th>1</th>\n",
       "      <td>2006-04-01 01:00:00.000 +0200</td>\n",
       "      <td>Partly Cloudy</td>\n",
       "      <td>rain</td>\n",
       "      <td>9.355556</td>\n",
       "      <td>7.227778</td>\n",
       "      <td>0.86</td>\n",
       "      <td>14.2646</td>\n",
       "      <td>259.0</td>\n",
       "      <td>15.8263</td>\n",
       "      <td>0.0</td>\n",
       "      <td>1015.63</td>\n",
       "      <td>Partly cloudy throughout the day.</td>\n",
       "    </tr>\n",
       "    <tr>\n",
       "      <th>2</th>\n",
       "      <td>2006-04-01 02:00:00.000 +0200</td>\n",
       "      <td>Mostly Cloudy</td>\n",
       "      <td>rain</td>\n",
       "      <td>9.377778</td>\n",
       "      <td>9.377778</td>\n",
       "      <td>0.89</td>\n",
       "      <td>3.9284</td>\n",
       "      <td>204.0</td>\n",
       "      <td>14.9569</td>\n",
       "      <td>0.0</td>\n",
       "      <td>1015.94</td>\n",
       "      <td>Partly cloudy throughout the day.</td>\n",
       "    </tr>\n",
       "    <tr>\n",
       "      <th>3</th>\n",
       "      <td>2006-04-01 03:00:00.000 +0200</td>\n",
       "      <td>Partly Cloudy</td>\n",
       "      <td>rain</td>\n",
       "      <td>8.288889</td>\n",
       "      <td>5.944444</td>\n",
       "      <td>0.83</td>\n",
       "      <td>14.1036</td>\n",
       "      <td>269.0</td>\n",
       "      <td>15.8263</td>\n",
       "      <td>0.0</td>\n",
       "      <td>1016.41</td>\n",
       "      <td>Partly cloudy throughout the day.</td>\n",
       "    </tr>\n",
       "    <tr>\n",
       "      <th>4</th>\n",
       "      <td>2006-04-01 04:00:00.000 +0200</td>\n",
       "      <td>Mostly Cloudy</td>\n",
       "      <td>rain</td>\n",
       "      <td>8.755556</td>\n",
       "      <td>6.977778</td>\n",
       "      <td>0.83</td>\n",
       "      <td>11.0446</td>\n",
       "      <td>259.0</td>\n",
       "      <td>15.8263</td>\n",
       "      <td>0.0</td>\n",
       "      <td>1016.51</td>\n",
       "      <td>Partly cloudy throughout the day.</td>\n",
       "    </tr>\n",
       "  </tbody>\n",
       "</table>\n",
       "</div>"
      ],
      "text/plain": [
       "                  Formatted Date        Summary Precip Type  Temperature (C)  \\\n",
       "0  2006-04-01 00:00:00.000 +0200  Partly Cloudy        rain         9.472222   \n",
       "1  2006-04-01 01:00:00.000 +0200  Partly Cloudy        rain         9.355556   \n",
       "2  2006-04-01 02:00:00.000 +0200  Mostly Cloudy        rain         9.377778   \n",
       "3  2006-04-01 03:00:00.000 +0200  Partly Cloudy        rain         8.288889   \n",
       "4  2006-04-01 04:00:00.000 +0200  Mostly Cloudy        rain         8.755556   \n",
       "\n",
       "   Apparent Temperature (C)  Humidity  Wind Speed (km/h)  \\\n",
       "0                  7.388889      0.89            14.1197   \n",
       "1                  7.227778      0.86            14.2646   \n",
       "2                  9.377778      0.89             3.9284   \n",
       "3                  5.944444      0.83            14.1036   \n",
       "4                  6.977778      0.83            11.0446   \n",
       "\n",
       "   Wind Bearing (degrees)  Visibility (km)  Loud Cover  Pressure (millibars)  \\\n",
       "0                   251.0          15.8263         0.0               1015.13   \n",
       "1                   259.0          15.8263         0.0               1015.63   \n",
       "2                   204.0          14.9569         0.0               1015.94   \n",
       "3                   269.0          15.8263         0.0               1016.41   \n",
       "4                   259.0          15.8263         0.0               1016.51   \n",
       "\n",
       "                       Daily Summary  \n",
       "0  Partly cloudy throughout the day.  \n",
       "1  Partly cloudy throughout the day.  \n",
       "2  Partly cloudy throughout the day.  \n",
       "3  Partly cloudy throughout the day.  \n",
       "4  Partly cloudy throughout the day.  "
      ]
     },
     "execution_count": 204,
     "metadata": {},
     "output_type": "execute_result"
    }
   ],
   "source": [
    "#smaple data\n",
    "data_set.head()"
   ]
  },
  {
   "cell_type": "code",
   "execution_count": 205,
   "id": "4bc8e1e5",
   "metadata": {},
   "outputs": [],
   "source": [
    "#droping the unwanted columns from the dataset \n",
    "data_set.drop(columns=['Formatted Date','Daily Summary','Precip Type','Loud Cover','Wind Bearing (degrees)'],axis=1,inplace=True)"
   ]
  },
  {
   "cell_type": "code",
   "execution_count": 206,
   "id": "b4ab44d1",
   "metadata": {},
   "outputs": [
    {
     "data": {
      "text/html": [
       "<div>\n",
       "<style scoped>\n",
       "    .dataframe tbody tr th:only-of-type {\n",
       "        vertical-align: middle;\n",
       "    }\n",
       "\n",
       "    .dataframe tbody tr th {\n",
       "        vertical-align: top;\n",
       "    }\n",
       "\n",
       "    .dataframe thead th {\n",
       "        text-align: right;\n",
       "    }\n",
       "</style>\n",
       "<table border=\"1\" class=\"dataframe\">\n",
       "  <thead>\n",
       "    <tr style=\"text-align: right;\">\n",
       "      <th></th>\n",
       "      <th>Summary</th>\n",
       "      <th>Temperature (C)</th>\n",
       "      <th>Apparent Temperature (C)</th>\n",
       "      <th>Humidity</th>\n",
       "      <th>Wind Speed (km/h)</th>\n",
       "      <th>Visibility (km)</th>\n",
       "      <th>Pressure (millibars)</th>\n",
       "    </tr>\n",
       "  </thead>\n",
       "  <tbody>\n",
       "    <tr>\n",
       "      <th>0</th>\n",
       "      <td>Partly Cloudy</td>\n",
       "      <td>9.472222</td>\n",
       "      <td>7.388889</td>\n",
       "      <td>0.89</td>\n",
       "      <td>14.1197</td>\n",
       "      <td>15.8263</td>\n",
       "      <td>1015.13</td>\n",
       "    </tr>\n",
       "    <tr>\n",
       "      <th>1</th>\n",
       "      <td>Partly Cloudy</td>\n",
       "      <td>9.355556</td>\n",
       "      <td>7.227778</td>\n",
       "      <td>0.86</td>\n",
       "      <td>14.2646</td>\n",
       "      <td>15.8263</td>\n",
       "      <td>1015.63</td>\n",
       "    </tr>\n",
       "    <tr>\n",
       "      <th>2</th>\n",
       "      <td>Mostly Cloudy</td>\n",
       "      <td>9.377778</td>\n",
       "      <td>9.377778</td>\n",
       "      <td>0.89</td>\n",
       "      <td>3.9284</td>\n",
       "      <td>14.9569</td>\n",
       "      <td>1015.94</td>\n",
       "    </tr>\n",
       "    <tr>\n",
       "      <th>3</th>\n",
       "      <td>Partly Cloudy</td>\n",
       "      <td>8.288889</td>\n",
       "      <td>5.944444</td>\n",
       "      <td>0.83</td>\n",
       "      <td>14.1036</td>\n",
       "      <td>15.8263</td>\n",
       "      <td>1016.41</td>\n",
       "    </tr>\n",
       "    <tr>\n",
       "      <th>4</th>\n",
       "      <td>Mostly Cloudy</td>\n",
       "      <td>8.755556</td>\n",
       "      <td>6.977778</td>\n",
       "      <td>0.83</td>\n",
       "      <td>11.0446</td>\n",
       "      <td>15.8263</td>\n",
       "      <td>1016.51</td>\n",
       "    </tr>\n",
       "  </tbody>\n",
       "</table>\n",
       "</div>"
      ],
      "text/plain": [
       "         Summary  Temperature (C)  Apparent Temperature (C)  Humidity  \\\n",
       "0  Partly Cloudy         9.472222                  7.388889      0.89   \n",
       "1  Partly Cloudy         9.355556                  7.227778      0.86   \n",
       "2  Mostly Cloudy         9.377778                  9.377778      0.89   \n",
       "3  Partly Cloudy         8.288889                  5.944444      0.83   \n",
       "4  Mostly Cloudy         8.755556                  6.977778      0.83   \n",
       "\n",
       "   Wind Speed (km/h)  Visibility (km)  Pressure (millibars)  \n",
       "0            14.1197          15.8263               1015.13  \n",
       "1            14.2646          15.8263               1015.63  \n",
       "2             3.9284          14.9569               1015.94  \n",
       "3            14.1036          15.8263               1016.41  \n",
       "4            11.0446          15.8263               1016.51  "
      ]
     },
     "execution_count": 206,
     "metadata": {},
     "output_type": "execute_result"
    }
   ],
   "source": [
    "data_set.head()"
   ]
  },
  {
   "cell_type": "code",
   "execution_count": 207,
   "id": "efe7617a",
   "metadata": {},
   "outputs": [
    {
     "data": {
      "text/plain": [
       "Summary                     0\n",
       "Temperature (C)             0\n",
       "Apparent Temperature (C)    0\n",
       "Humidity                    0\n",
       "Wind Speed (km/h)           0\n",
       "Visibility (km)             0\n",
       "Pressure (millibars)        0\n",
       "dtype: int64"
      ]
     },
     "execution_count": 207,
     "metadata": {},
     "output_type": "execute_result"
    }
   ],
   "source": [
    "#checking the null value\n",
    "data_set.isnull().sum()"
   ]
  },
  {
   "cell_type": "code",
   "execution_count": 208,
   "id": "d2e7015d",
   "metadata": {},
   "outputs": [],
   "source": [
    "#filling the null value with previous values,pandas default function\n",
    "#data_set['Precip Type'].fillna(method=\"ffill\",inplace=True,axis=0)"
   ]
  },
  {
   "cell_type": "code",
   "execution_count": 209,
   "id": "4d823336",
   "metadata": {},
   "outputs": [
    {
     "data": {
      "text/plain": [
       "Summary                     0\n",
       "Temperature (C)             0\n",
       "Apparent Temperature (C)    0\n",
       "Humidity                    0\n",
       "Wind Speed (km/h)           0\n",
       "Visibility (km)             0\n",
       "Pressure (millibars)        0\n",
       "dtype: int64"
      ]
     },
     "execution_count": 209,
     "metadata": {},
     "output_type": "execute_result"
    }
   ],
   "source": [
    "#checking the null value\n",
    "data_set.isnull().sum()"
   ]
  },
  {
   "cell_type": "code",
   "execution_count": 234,
   "id": "8f894dd7",
   "metadata": {},
   "outputs": [
    {
     "data": {
      "text/plain": [
       "Partly Cloudy               31733\n",
       "Mostly Cloudy               28094\n",
       "Overcast                    16597\n",
       "Clear                       10890\n",
       "Foggy                        7148\n",
       "Breezy and Overcast           528\n",
       "Breezy and Mostly Cloudy      516\n",
       "Breezy and Partly Cloudy      386\n",
       "Dry and Partly Cloudy          86\n",
       "Windy and Partly Cloudy        67\n",
       "Light Rain                     63\n",
       "Breezy                         54\n",
       "Windy and Overcast             45\n",
       "Humid and Mostly Cloudy        40\n",
       "Drizzle                        39\n",
       "Breezy and Foggy               35\n",
       "Windy and Mostly Cloudy        35\n",
       "Dry                            34\n",
       "Humid and Partly Cloudy        17\n",
       "Dry and Mostly Cloudy          14\n",
       "Rain                           10\n",
       "Name: Summary, dtype: int64"
      ]
     },
     "execution_count": 234,
     "metadata": {},
     "output_type": "execute_result"
    }
   ],
   "source": [
    "\n",
    "data_set.loc[data_set['Summary']==\"Breezy and Dry\"]=\"Breezy\"\n",
    "data_set.loc[data_set['Summary']==\"Windy and Foggy\"]=\"Breezy\"\n",
    "data_set.loc[data_set['Summary']==\"Dangerously Windy and Partly Cloudy\"]=\"Breezy\"\n",
    "data_set.loc[data_set['Summary']==\"Windy and Dry\"]=\"Breezy\"\n",
    "data_set.loc[data_set['Summary']==\"Breezy and Overcast\"]=\"Breezy\"\n",
    "data_set.loc[data_set['Summary']==\"Breezy and Partly Cloudy \"]=\"Breezy\"\n",
    "data_set.loc[data_set['Summary']==\"Breezy and Mostly Cloudy\"]=\"Breezy\"\n",
    "\n",
    "data_set=data_set.loc[data_set['Summary']!=\"Humid and Overcast\"]\n",
    "\n",
    "data_set['Summary'].value_counts()"
   ]
  },
  {
   "cell_type": "code",
   "execution_count": null,
   "id": "a80c077b",
   "metadata": {},
   "outputs": [],
   "source": []
  },
  {
   "cell_type": "code",
   "execution_count": 222,
   "id": "d22a1127",
   "metadata": {},
   "outputs": [],
   "source": [
    "#data_set['Precip Type'].value_counts()"
   ]
  },
  {
   "cell_type": "code",
   "execution_count": 223,
   "id": "00b4dd34",
   "metadata": {},
   "outputs": [],
   "source": [
    "#For Regression algorith there should be dependent variable and independent variables\n",
    "#In this project dataset dependent varible is Summary and all others are indepent varible ot to each other\n",
    "#classify x and y axis\n",
    "y=data_set.iloc[:,0]#First of the dataset i.e, Summary\n",
    "x=data_set.iloc[:,1:]#except first row everything"
   ]
  },
  {
   "cell_type": "code",
   "execution_count": 224,
   "id": "ba830ae2",
   "metadata": {},
   "outputs": [
    {
     "data": {
      "text/html": [
       "<div>\n",
       "<style scoped>\n",
       "    .dataframe tbody tr th:only-of-type {\n",
       "        vertical-align: middle;\n",
       "    }\n",
       "\n",
       "    .dataframe tbody tr th {\n",
       "        vertical-align: top;\n",
       "    }\n",
       "\n",
       "    .dataframe thead th {\n",
       "        text-align: right;\n",
       "    }\n",
       "</style>\n",
       "<table border=\"1\" class=\"dataframe\">\n",
       "  <thead>\n",
       "    <tr style=\"text-align: right;\">\n",
       "      <th></th>\n",
       "      <th>Temperature (C)</th>\n",
       "      <th>Apparent Temperature (C)</th>\n",
       "      <th>Humidity</th>\n",
       "      <th>Wind Speed (km/h)</th>\n",
       "      <th>Visibility (km)</th>\n",
       "      <th>Pressure (millibars)</th>\n",
       "    </tr>\n",
       "  </thead>\n",
       "  <tbody>\n",
       "    <tr>\n",
       "      <th>0</th>\n",
       "      <td>9.472222</td>\n",
       "      <td>7.388889</td>\n",
       "      <td>0.89</td>\n",
       "      <td>14.1197</td>\n",
       "      <td>15.8263</td>\n",
       "      <td>1015.13</td>\n",
       "    </tr>\n",
       "    <tr>\n",
       "      <th>1</th>\n",
       "      <td>9.355556</td>\n",
       "      <td>7.227778</td>\n",
       "      <td>0.86</td>\n",
       "      <td>14.2646</td>\n",
       "      <td>15.8263</td>\n",
       "      <td>1015.63</td>\n",
       "    </tr>\n",
       "    <tr>\n",
       "      <th>2</th>\n",
       "      <td>9.377778</td>\n",
       "      <td>9.377778</td>\n",
       "      <td>0.89</td>\n",
       "      <td>3.9284</td>\n",
       "      <td>14.9569</td>\n",
       "      <td>1015.94</td>\n",
       "    </tr>\n",
       "    <tr>\n",
       "      <th>3</th>\n",
       "      <td>8.288889</td>\n",
       "      <td>5.944444</td>\n",
       "      <td>0.83</td>\n",
       "      <td>14.1036</td>\n",
       "      <td>15.8263</td>\n",
       "      <td>1016.41</td>\n",
       "    </tr>\n",
       "    <tr>\n",
       "      <th>4</th>\n",
       "      <td>8.755556</td>\n",
       "      <td>6.977778</td>\n",
       "      <td>0.83</td>\n",
       "      <td>11.0446</td>\n",
       "      <td>15.8263</td>\n",
       "      <td>1016.51</td>\n",
       "    </tr>\n",
       "    <tr>\n",
       "      <th>...</th>\n",
       "      <td>...</td>\n",
       "      <td>...</td>\n",
       "      <td>...</td>\n",
       "      <td>...</td>\n",
       "      <td>...</td>\n",
       "      <td>...</td>\n",
       "    </tr>\n",
       "    <tr>\n",
       "      <th>96448</th>\n",
       "      <td>26.016667</td>\n",
       "      <td>26.016667</td>\n",
       "      <td>0.43</td>\n",
       "      <td>10.9963</td>\n",
       "      <td>16.1000</td>\n",
       "      <td>1014.36</td>\n",
       "    </tr>\n",
       "    <tr>\n",
       "      <th>96449</th>\n",
       "      <td>24.583333</td>\n",
       "      <td>24.583333</td>\n",
       "      <td>0.48</td>\n",
       "      <td>10.0947</td>\n",
       "      <td>15.5526</td>\n",
       "      <td>1015.16</td>\n",
       "    </tr>\n",
       "    <tr>\n",
       "      <th>96450</th>\n",
       "      <td>22.038889</td>\n",
       "      <td>22.038889</td>\n",
       "      <td>0.56</td>\n",
       "      <td>8.9838</td>\n",
       "      <td>16.1000</td>\n",
       "      <td>1015.66</td>\n",
       "    </tr>\n",
       "    <tr>\n",
       "      <th>96451</th>\n",
       "      <td>21.522222</td>\n",
       "      <td>21.522222</td>\n",
       "      <td>0.60</td>\n",
       "      <td>10.5294</td>\n",
       "      <td>16.1000</td>\n",
       "      <td>1015.95</td>\n",
       "    </tr>\n",
       "    <tr>\n",
       "      <th>96452</th>\n",
       "      <td>20.438889</td>\n",
       "      <td>20.438889</td>\n",
       "      <td>0.61</td>\n",
       "      <td>5.8765</td>\n",
       "      <td>15.5204</td>\n",
       "      <td>1016.16</td>\n",
       "    </tr>\n",
       "  </tbody>\n",
       "</table>\n",
       "<p>96431 rows × 6 columns</p>\n",
       "</div>"
      ],
      "text/plain": [
       "       Temperature (C)  Apparent Temperature (C)  Humidity  Wind Speed (km/h)  \\\n",
       "0             9.472222                  7.388889      0.89            14.1197   \n",
       "1             9.355556                  7.227778      0.86            14.2646   \n",
       "2             9.377778                  9.377778      0.89             3.9284   \n",
       "3             8.288889                  5.944444      0.83            14.1036   \n",
       "4             8.755556                  6.977778      0.83            11.0446   \n",
       "...                ...                       ...       ...                ...   \n",
       "96448        26.016667                 26.016667      0.43            10.9963   \n",
       "96449        24.583333                 24.583333      0.48            10.0947   \n",
       "96450        22.038889                 22.038889      0.56             8.9838   \n",
       "96451        21.522222                 21.522222      0.60            10.5294   \n",
       "96452        20.438889                 20.438889      0.61             5.8765   \n",
       "\n",
       "       Visibility (km)  Pressure (millibars)  \n",
       "0              15.8263               1015.13  \n",
       "1              15.8263               1015.63  \n",
       "2              14.9569               1015.94  \n",
       "3              15.8263               1016.41  \n",
       "4              15.8263               1016.51  \n",
       "...                ...                   ...  \n",
       "96448          16.1000               1014.36  \n",
       "96449          15.5526               1015.16  \n",
       "96450          16.1000               1015.66  \n",
       "96451          16.1000               1015.95  \n",
       "96452          15.5204               1016.16  \n",
       "\n",
       "[96431 rows x 6 columns]"
      ]
     },
     "execution_count": 224,
     "metadata": {},
     "output_type": "execute_result"
    }
   ],
   "source": [
    "x"
   ]
  },
  {
   "cell_type": "code",
   "execution_count": 225,
   "id": "38326ffa",
   "metadata": {},
   "outputs": [
    {
     "data": {
      "text/plain": [
       "0        Partly Cloudy\n",
       "1        Partly Cloudy\n",
       "2        Mostly Cloudy\n",
       "3        Partly Cloudy\n",
       "4        Mostly Cloudy\n",
       "             ...      \n",
       "96448    Partly Cloudy\n",
       "96449    Partly Cloudy\n",
       "96450    Partly Cloudy\n",
       "96451    Partly Cloudy\n",
       "96452    Partly Cloudy\n",
       "Name: Summary, Length: 96431, dtype: object"
      ]
     },
     "execution_count": 225,
     "metadata": {},
     "output_type": "execute_result"
    }
   ],
   "source": [
    "y"
   ]
  },
  {
   "cell_type": "code",
   "execution_count": 226,
   "id": "d1896ef4",
   "metadata": {},
   "outputs": [
    {
     "data": {
      "text/plain": [
       "{'Breezy': 0,\n",
       " 'Overcast': 1,\n",
       " 'Windy and Mostly Cloudy': 2,\n",
       " 'Partly Cloudy': 3,\n",
       " 'Breezy and Partly Cloudy': 4,\n",
       " 'Breezy and Overcast': 5,\n",
       " 'Dry and Mostly Cloudy': 6,\n",
       " 'Humid and Partly Cloudy': 7,\n",
       " 'Dry': 8,\n",
       " 'Dry and Partly Cloudy': 9,\n",
       " 'Windy and Partly Cloudy': 10,\n",
       " 'Clear': 11,\n",
       " 'Light Rain': 12,\n",
       " 'Mostly Cloudy': 13,\n",
       " 'Breezy and Mostly Cloudy': 14,\n",
       " 'Rain': 15,\n",
       " 'Drizzle': 16,\n",
       " 'Foggy': 17,\n",
       " 'Humid and Mostly Cloudy': 18,\n",
       " 'Windy and Overcast': 19,\n",
       " 'Breezy and Foggy': 20}"
      ]
     },
     "execution_count": 226,
     "metadata": {},
     "output_type": "execute_result"
    }
   ],
   "source": [
    "#Now x consist of string value convert in to numerical value\n",
    "summary=list(set(y))\n",
    "sumary_dict={}\n",
    "for i in range(len(summary)):\n",
    "    sumary_dict[summary[i]]=i\n",
    "sumary_dict"
   ]
  },
  {
   "cell_type": "code",
   "execution_count": 195,
   "id": "328ca43a",
   "metadata": {},
   "outputs": [
    {
     "data": {
      "text/plain": [
       "{'rain': 0, 'snow': 1}"
      ]
     },
     "execution_count": 195,
     "metadata": {},
     "output_type": "execute_result"
    }
   ],
   "source": [
    "# per=list(set(x['Precip Type']))\n",
    "# per_dict={}\n",
    "# for i in range(len(per)):\n",
    "#     per_dict[per[i]]=i\n",
    "# per_dict"
   ]
  },
  {
   "cell_type": "code",
   "execution_count": 227,
   "id": "906ca21d",
   "metadata": {},
   "outputs": [],
   "source": [
    "#convert using label encoder\n",
    "y=y.apply(lambda z:sumary_dict[z])\n",
    "#x['Precip Type']=x['Precip Type'].apply(lambda z:per_dict[z])"
   ]
  },
  {
   "cell_type": "code",
   "execution_count": 228,
   "id": "5f19ed2d",
   "metadata": {},
   "outputs": [],
   "source": [
    "#We can convert using inbuilt function also i.e using lable encoder function fron sklearn\n",
    "#from sklearn.preprocessing import LabelEncoder\n",
    "# le=LabelEncoder()\n",
    "# y=le.fit_transform(data_set['Summary'])\n",
    "# print(le.classes_)\n",
    "# x['Precip Type']=le.fit_transform(x['Precip Type'])\n",
    "# print(le.classes_)"
   ]
  },
  {
   "cell_type": "code",
   "execution_count": 229,
   "id": "a91b4b65",
   "metadata": {},
   "outputs": [],
   "source": [
    "#Normalizing the dataset between 0 to 1\n",
    "#NArmalization formula=(x-min(x))/(max(x)-min(x))\n",
    "x=(x-np.min(x))/(np.max(x)-np.min(x))\n"
   ]
  },
  {
   "cell_type": "code",
   "execution_count": 230,
   "id": "70af9c17",
   "metadata": {},
   "outputs": [
    {
     "data": {
      "text/html": [
       "<div>\n",
       "<style scoped>\n",
       "    .dataframe tbody tr th:only-of-type {\n",
       "        vertical-align: middle;\n",
       "    }\n",
       "\n",
       "    .dataframe tbody tr th {\n",
       "        vertical-align: top;\n",
       "    }\n",
       "\n",
       "    .dataframe thead th {\n",
       "        text-align: right;\n",
       "    }\n",
       "</style>\n",
       "<table border=\"1\" class=\"dataframe\">\n",
       "  <thead>\n",
       "    <tr style=\"text-align: right;\">\n",
       "      <th></th>\n",
       "      <th>Temperature (C)</th>\n",
       "      <th>Apparent Temperature (C)</th>\n",
       "      <th>Humidity</th>\n",
       "      <th>Wind Speed (km/h)</th>\n",
       "      <th>Visibility (km)</th>\n",
       "      <th>Pressure (millibars)</th>\n",
       "    </tr>\n",
       "  </thead>\n",
       "  <tbody>\n",
       "    <tr>\n",
       "      <th>0</th>\n",
       "      <td>0.506975</td>\n",
       "      <td>0.523486</td>\n",
       "      <td>0.89</td>\n",
       "      <td>0.252447</td>\n",
       "      <td>0.983</td>\n",
       "      <td>0.970135</td>\n",
       "    </tr>\n",
       "    <tr>\n",
       "      <th>1</th>\n",
       "      <td>0.505085</td>\n",
       "      <td>0.521084</td>\n",
       "      <td>0.86</td>\n",
       "      <td>0.255037</td>\n",
       "      <td>0.983</td>\n",
       "      <td>0.970613</td>\n",
       "    </tr>\n",
       "    <tr>\n",
       "      <th>2</th>\n",
       "      <td>0.505445</td>\n",
       "      <td>0.553144</td>\n",
       "      <td>0.89</td>\n",
       "      <td>0.070236</td>\n",
       "      <td>0.929</td>\n",
       "      <td>0.970909</td>\n",
       "    </tr>\n",
       "    <tr>\n",
       "      <th>3</th>\n",
       "      <td>0.487805</td>\n",
       "      <td>0.501947</td>\n",
       "      <td>0.83</td>\n",
       "      <td>0.252159</td>\n",
       "      <td>0.983</td>\n",
       "      <td>0.971358</td>\n",
       "    </tr>\n",
       "    <tr>\n",
       "      <th>4</th>\n",
       "      <td>0.495365</td>\n",
       "      <td>0.517356</td>\n",
       "      <td>0.83</td>\n",
       "      <td>0.197467</td>\n",
       "      <td>0.983</td>\n",
       "      <td>0.971454</td>\n",
       "    </tr>\n",
       "    <tr>\n",
       "      <th>...</th>\n",
       "      <td>...</td>\n",
       "      <td>...</td>\n",
       "      <td>...</td>\n",
       "      <td>...</td>\n",
       "      <td>...</td>\n",
       "      <td>...</td>\n",
       "    </tr>\n",
       "    <tr>\n",
       "      <th>96448</th>\n",
       "      <td>0.774998</td>\n",
       "      <td>0.801259</td>\n",
       "      <td>0.43</td>\n",
       "      <td>0.196603</td>\n",
       "      <td>1.000</td>\n",
       "      <td>0.969399</td>\n",
       "    </tr>\n",
       "    <tr>\n",
       "      <th>96449</th>\n",
       "      <td>0.751778</td>\n",
       "      <td>0.779886</td>\n",
       "      <td>0.48</td>\n",
       "      <td>0.180484</td>\n",
       "      <td>0.966</td>\n",
       "      <td>0.970164</td>\n",
       "    </tr>\n",
       "    <tr>\n",
       "      <th>96450</th>\n",
       "      <td>0.710557</td>\n",
       "      <td>0.741944</td>\n",
       "      <td>0.56</td>\n",
       "      <td>0.160622</td>\n",
       "      <td>1.000</td>\n",
       "      <td>0.970642</td>\n",
       "    </tr>\n",
       "    <tr>\n",
       "      <th>96451</th>\n",
       "      <td>0.702187</td>\n",
       "      <td>0.734239</td>\n",
       "      <td>0.60</td>\n",
       "      <td>0.188256</td>\n",
       "      <td>1.000</td>\n",
       "      <td>0.970919</td>\n",
       "    </tr>\n",
       "    <tr>\n",
       "      <th>96452</th>\n",
       "      <td>0.684637</td>\n",
       "      <td>0.718085</td>\n",
       "      <td>0.61</td>\n",
       "      <td>0.105066</td>\n",
       "      <td>0.964</td>\n",
       "      <td>0.971119</td>\n",
       "    </tr>\n",
       "  </tbody>\n",
       "</table>\n",
       "<p>96431 rows × 6 columns</p>\n",
       "</div>"
      ],
      "text/plain": [
       "       Temperature (C)  Apparent Temperature (C)  Humidity  Wind Speed (km/h)  \\\n",
       "0             0.506975                  0.523486      0.89           0.252447   \n",
       "1             0.505085                  0.521084      0.86           0.255037   \n",
       "2             0.505445                  0.553144      0.89           0.070236   \n",
       "3             0.487805                  0.501947      0.83           0.252159   \n",
       "4             0.495365                  0.517356      0.83           0.197467   \n",
       "...                ...                       ...       ...                ...   \n",
       "96448         0.774998                  0.801259      0.43           0.196603   \n",
       "96449         0.751778                  0.779886      0.48           0.180484   \n",
       "96450         0.710557                  0.741944      0.56           0.160622   \n",
       "96451         0.702187                  0.734239      0.60           0.188256   \n",
       "96452         0.684637                  0.718085      0.61           0.105066   \n",
       "\n",
       "       Visibility (km)  Pressure (millibars)  \n",
       "0                0.983              0.970135  \n",
       "1                0.983              0.970613  \n",
       "2                0.929              0.970909  \n",
       "3                0.983              0.971358  \n",
       "4                0.983              0.971454  \n",
       "...                ...                   ...  \n",
       "96448            1.000              0.969399  \n",
       "96449            0.966              0.970164  \n",
       "96450            1.000              0.970642  \n",
       "96451            1.000              0.970919  \n",
       "96452            0.964              0.971119  \n",
       "\n",
       "[96431 rows x 6 columns]"
      ]
     },
     "execution_count": 230,
     "metadata": {},
     "output_type": "execute_result"
    }
   ],
   "source": [
    "x\n"
   ]
  },
  {
   "cell_type": "code",
   "execution_count": 232,
   "id": "86d8a11f",
   "metadata": {},
   "outputs": [
    {
     "name": "stderr",
     "output_type": "stream",
     "text": [
      "C:\\Users\\AD20094009\\Anaconda3\\lib\\site-packages\\sklearn\\linear_model\\_logistic.py:763: ConvergenceWarning: lbfgs failed to converge (status=1):\n",
      "STOP: TOTAL NO. of ITERATIONS REACHED LIMIT.\n",
      "\n",
      "Increase the number of iterations (max_iter) or scale the data as shown in:\n",
      "    https://scikit-learn.org/stable/modules/preprocessing.html\n",
      "Please also refer to the documentation for alternative solver options:\n",
      "    https://scikit-learn.org/stable/modules/linear_model.html#logistic-regression\n",
      "  n_iter_i = _check_optimize_result(\n"
     ]
    },
    {
     "data": {
      "text/plain": [
       "LogisticRegression()"
      ]
     },
     "execution_count": 232,
     "metadata": {},
     "output_type": "execute_result"
    }
   ],
   "source": [
    "from sklearn.linear_model import LogisticRegression\n",
    "from sklearn.model_selection import train_test_split\n",
    "lr=LogisticRegression()\n",
    "x_train,x_test,y_train,y_test=train_test_split(x,y,test_size=0.2,random_state=75)\n",
    "lr.fit(x_train,y_train)"
   ]
  },
  {
   "cell_type": "code",
   "execution_count": 233,
   "id": "fc92b133",
   "metadata": {},
   "outputs": [
    {
     "data": {
      "text/plain": [
       "0.4915746357650231"
      ]
     },
     "execution_count": 233,
     "metadata": {},
     "output_type": "execute_result"
    }
   ],
   "source": [
    "lr.score(x_test,y_test)"
   ]
  },
  {
   "cell_type": "code",
   "execution_count": null,
   "id": "d0c3c6ee",
   "metadata": {},
   "outputs": [],
   "source": []
  }
 ],
 "metadata": {
  "kernelspec": {
   "display_name": "Python 3",
   "language": "python",
   "name": "python3"
  },
  "language_info": {
   "codemirror_mode": {
    "name": "ipython",
    "version": 3
   },
   "file_extension": ".py",
   "mimetype": "text/x-python",
   "name": "python",
   "nbconvert_exporter": "python",
   "pygments_lexer": "ipython3",
   "version": "3.8.8"
  }
 },
 "nbformat": 4,
 "nbformat_minor": 5
}
